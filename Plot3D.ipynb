{
 "cells": [
  {
   "cell_type": "code",
   "execution_count": 16,
   "id": "88efbbe4-9972-41a2-995c-db638d33bbc8",
   "metadata": {},
   "outputs": [],
   "source": [
    "import pandas as pd"
   ]
  },
  {
   "cell_type": "code",
   "execution_count": 17,
   "id": "18261255-97df-46b4-b7d2-655396be502c",
   "metadata": {},
   "outputs": [],
   "source": [
    "import numpy as np"
   ]
  },
  {
   "cell_type": "code",
   "execution_count": 18,
   "id": "3cc82fab-1d5d-4241-84ce-6a2644526260",
   "metadata": {},
   "outputs": [],
   "source": [
    "from mayavi import mlab"
   ]
  },
  {
   "cell_type": "code",
   "execution_count": 19,
   "id": "bf89bdc0-da91-47fe-b17e-9720cac43c35",
   "metadata": {},
   "outputs": [],
   "source": [
    "df = pd.read_csv(\"Results_80.csv\").drop(columns=[\"Unnamed: 0\"])"
   ]
  },
  {
   "cell_type": "code",
   "execution_count": 20,
   "id": "d1bbfcb2-e4b4-4c96-8d5f-dca529c11668",
   "metadata": {},
   "outputs": [],
   "source": [
    "Ro = 69.634*1E9\n",
    "Rss = 2.5 * Ro\n",
    "\n",
    "X = np.array(df['X'])\n",
    "Y = np.array(df['Y'])\n",
    "Z = np.array(df['Z'])\n",
    "\n",
    "R = np.array(df['R'])\n",
    "Theta = np.array(df['Theta'])\n",
    "Phi = np.array(df['Phi'])\n",
    "\n",
    "B_radial = np.array(df['B_Radial'])\n",
    "B_theta = np.array(df['B_Theta'])\n",
    "B_phi = np.array(df['B_Phi'])"
   ]
  },
  {
   "cell_type": "code",
   "execution_count": 21,
   "id": "d6c622af-02d5-4694-8585-14b4ddc82c9a",
   "metadata": {},
   "outputs": [],
   "source": [
    "BX =  ( B_radial*np.sin(Theta)*np.cos(Phi) ) + ( B_theta*np.cos(Theta)*np.cos(Phi) ) - ( B_phi*np.sin(Theta) ) "
   ]
  },
  {
   "cell_type": "code",
   "execution_count": 22,
   "id": "8ba156b8-24af-4a59-9d4f-1b36c4d9c669",
   "metadata": {},
   "outputs": [],
   "source": [
    "BY = ( B_radial*np.sin(Theta)*np.sin(Phi) ) + ( B_theta*np.cos(Theta)*np.sin(Phi) ) - ( B_phi*np.cos(Theta) ) "
   ]
  },
  {
   "cell_type": "code",
   "execution_count": 23,
   "id": "6c45dde4-9565-4a49-a452-c0b8d92202ea",
   "metadata": {},
   "outputs": [],
   "source": [
    "BZ = ( B_radial*np.cos(Theta) )  - ( B_theta*np.sin(Theta) )"
   ]
  },
  {
   "cell_type": "code",
   "execution_count": 24,
   "id": "1f9c59ce-09ce-473f-b483-2b73d4987d36",
   "metadata": {},
   "outputs": [],
   "source": [
    "condition_index = np.where((R>Ro) & (R<2.5*Ro))[0]"
   ]
  },
  {
   "cell_type": "code",
   "execution_count": 10,
   "id": "7ff75b7c-762c-4598-9b63-b954cfb10be8",
   "metadata": {},
   "outputs": [],
   "source": [
    "B = np.sqrt(BX**2 + BY**2 + BZ**2)"
   ]
  },
  {
   "cell_type": "code",
   "execution_count": 11,
   "id": "15d8817a-febc-4de2-9926-3eae4f754fd0",
   "metadata": {},
   "outputs": [],
   "source": [
    "phi, theta = np.mgrid[0:np.pi:100j, 0:2*np.pi:100j]\n",
    "x = Ro*np.sin(phi) * np.cos(theta)\n",
    "y = Ro*np.sin(phi) * np.sin(theta)\n",
    "z = Ro*np.cos(phi)\n",
    "mlab.mesh(x, y, z)\n",
    "mlab.mesh(x, y, z, representation='surface',color = (0,0,0))\n",
    "s= mlab.quiver3d(X[condition_index],Y[condition_index],Z[condition_index],BX[condition_index], BY[condition_index], BZ[condition_index],line_width=2,vmax=B.max(),vmin = B.min())\n",
    "mlab.show()"
   ]
  },
  {
   "cell_type": "code",
   "execution_count": 28,
   "id": "b77c6a0b-9650-44aa-a9fa-a8e7a3b3965e",
   "metadata": {},
   "outputs": [],
   "source": [
    "df['BX'] = BX\n",
    "df['BY'] = BY\n",
    "df['BZ'] = BZ\n",
    "df['Mag'] = B\n",
    "\n",
    "\n",
    "df = df.drop(columns = ['B_Radial' , 'B_Theta' , 'B_Phi' , 'Mag' , 'R' , 'Theta' , 'Phi'  ])"
   ]
  },
  {
   "cell_type": "code",
   "execution_count": 29,
   "id": "b4c80d84-0e14-4004-84ea-bbcacff51faf",
   "metadata": {},
   "outputs": [],
   "source": [
    "df.to_csv(\"Results_All_Components80.csv\")"
   ]
  },
  {
   "cell_type": "code",
   "execution_count": 30,
   "id": "c6734f64-1bcf-4bd2-b958-542089393934",
   "metadata": {},
   "outputs": [
    {
     "data": {
      "text/html": [
       "<div>\n",
       "<style scoped>\n",
       "    .dataframe tbody tr th:only-of-type {\n",
       "        vertical-align: middle;\n",
       "    }\n",
       "\n",
       "    .dataframe tbody tr th {\n",
       "        vertical-align: top;\n",
       "    }\n",
       "\n",
       "    .dataframe thead th {\n",
       "        text-align: right;\n",
       "    }\n",
       "</style>\n",
       "<table border=\"1\" class=\"dataframe\">\n",
       "  <thead>\n",
       "    <tr style=\"text-align: right;\">\n",
       "      <th></th>\n",
       "      <th>X</th>\n",
       "      <th>Y</th>\n",
       "      <th>Z</th>\n",
       "      <th>BX</th>\n",
       "      <th>BY</th>\n",
       "      <th>BZ</th>\n",
       "    </tr>\n",
       "  </thead>\n",
       "  <tbody>\n",
       "    <tr>\n",
       "      <th>0</th>\n",
       "      <td>-2.089020e+11</td>\n",
       "      <td>-2.089020e+11</td>\n",
       "      <td>-2.089020e+11</td>\n",
       "      <td>0.0</td>\n",
       "      <td>0.0</td>\n",
       "      <td>-0.0</td>\n",
       "    </tr>\n",
       "    <tr>\n",
       "      <th>1</th>\n",
       "      <td>-2.089020e+11</td>\n",
       "      <td>-2.089020e+11</td>\n",
       "      <td>-2.036133e+11</td>\n",
       "      <td>0.0</td>\n",
       "      <td>0.0</td>\n",
       "      <td>-0.0</td>\n",
       "    </tr>\n",
       "    <tr>\n",
       "      <th>2</th>\n",
       "      <td>-2.089020e+11</td>\n",
       "      <td>-2.089020e+11</td>\n",
       "      <td>-1.983247e+11</td>\n",
       "      <td>0.0</td>\n",
       "      <td>0.0</td>\n",
       "      <td>-0.0</td>\n",
       "    </tr>\n",
       "    <tr>\n",
       "      <th>3</th>\n",
       "      <td>-2.089020e+11</td>\n",
       "      <td>-2.089020e+11</td>\n",
       "      <td>-1.930360e+11</td>\n",
       "      <td>0.0</td>\n",
       "      <td>0.0</td>\n",
       "      <td>-0.0</td>\n",
       "    </tr>\n",
       "    <tr>\n",
       "      <th>4</th>\n",
       "      <td>-2.089020e+11</td>\n",
       "      <td>-2.089020e+11</td>\n",
       "      <td>-1.877474e+11</td>\n",
       "      <td>0.0</td>\n",
       "      <td>0.0</td>\n",
       "      <td>-0.0</td>\n",
       "    </tr>\n",
       "    <tr>\n",
       "      <th>...</th>\n",
       "      <td>...</td>\n",
       "      <td>...</td>\n",
       "      <td>...</td>\n",
       "      <td>...</td>\n",
       "      <td>...</td>\n",
       "      <td>...</td>\n",
       "    </tr>\n",
       "    <tr>\n",
       "      <th>511995</th>\n",
       "      <td>2.089020e+11</td>\n",
       "      <td>2.089020e+11</td>\n",
       "      <td>1.877474e+11</td>\n",
       "      <td>0.0</td>\n",
       "      <td>0.0</td>\n",
       "      <td>0.0</td>\n",
       "    </tr>\n",
       "    <tr>\n",
       "      <th>511996</th>\n",
       "      <td>2.089020e+11</td>\n",
       "      <td>2.089020e+11</td>\n",
       "      <td>1.930360e+11</td>\n",
       "      <td>0.0</td>\n",
       "      <td>0.0</td>\n",
       "      <td>0.0</td>\n",
       "    </tr>\n",
       "    <tr>\n",
       "      <th>511997</th>\n",
       "      <td>2.089020e+11</td>\n",
       "      <td>2.089020e+11</td>\n",
       "      <td>1.983247e+11</td>\n",
       "      <td>0.0</td>\n",
       "      <td>0.0</td>\n",
       "      <td>0.0</td>\n",
       "    </tr>\n",
       "    <tr>\n",
       "      <th>511998</th>\n",
       "      <td>2.089020e+11</td>\n",
       "      <td>2.089020e+11</td>\n",
       "      <td>2.036133e+11</td>\n",
       "      <td>0.0</td>\n",
       "      <td>0.0</td>\n",
       "      <td>0.0</td>\n",
       "    </tr>\n",
       "    <tr>\n",
       "      <th>511999</th>\n",
       "      <td>2.089020e+11</td>\n",
       "      <td>2.089020e+11</td>\n",
       "      <td>2.089020e+11</td>\n",
       "      <td>0.0</td>\n",
       "      <td>0.0</td>\n",
       "      <td>0.0</td>\n",
       "    </tr>\n",
       "  </tbody>\n",
       "</table>\n",
       "<p>512000 rows × 6 columns</p>\n",
       "</div>"
      ],
      "text/plain": [
       "                   X             Y             Z   BX   BY   BZ\n",
       "0      -2.089020e+11 -2.089020e+11 -2.089020e+11  0.0  0.0 -0.0\n",
       "1      -2.089020e+11 -2.089020e+11 -2.036133e+11  0.0  0.0 -0.0\n",
       "2      -2.089020e+11 -2.089020e+11 -1.983247e+11  0.0  0.0 -0.0\n",
       "3      -2.089020e+11 -2.089020e+11 -1.930360e+11  0.0  0.0 -0.0\n",
       "4      -2.089020e+11 -2.089020e+11 -1.877474e+11  0.0  0.0 -0.0\n",
       "...              ...           ...           ...  ...  ...  ...\n",
       "511995  2.089020e+11  2.089020e+11  1.877474e+11  0.0  0.0  0.0\n",
       "511996  2.089020e+11  2.089020e+11  1.930360e+11  0.0  0.0  0.0\n",
       "511997  2.089020e+11  2.089020e+11  1.983247e+11  0.0  0.0  0.0\n",
       "511998  2.089020e+11  2.089020e+11  2.036133e+11  0.0  0.0  0.0\n",
       "511999  2.089020e+11  2.089020e+11  2.089020e+11  0.0  0.0  0.0\n",
       "\n",
       "[512000 rows x 6 columns]"
      ]
     },
     "execution_count": 30,
     "metadata": {},
     "output_type": "execute_result"
    }
   ],
   "source": [
    "df"
   ]
  },
  {
   "cell_type": "code",
   "execution_count": 22,
   "id": "21d91aa2-c635-4334-8aa4-15ef494f3e96",
   "metadata": {},
   "outputs": [],
   "source": [
    "import numpy as np\n",
    "\n",
    "phi = np.linspace(0,2*np.pi,10)\n",
    "theta = np.linspace(0,np.pi,10)\n",
    "u = np.random.rand(10)\n",
    "\n",
    "Ro = 69.634*1E9\n",
    "Rss = 2.5 * Ro\n",
    "\n",
    "r = (3*Ro) * np.cbrt(u)"
   ]
  },
  {
   "cell_type": "code",
   "execution_count": 23,
   "id": "e559f932-2b5f-487e-baab-c2506b6a3030",
   "metadata": {},
   "outputs": [],
   "source": [
    "x = r * np.sin( theta) * np.cos( phi )\n",
    "y = r * np.sin( theta) * np.sin( phi )\n",
    "z = r * np.cos( theta )"
   ]
  },
  {
   "cell_type": "code",
   "execution_count": 24,
   "id": "7caedad1-2047-4b5b-beac-5eada35ce82d",
   "metadata": {},
   "outputs": [
    {
     "data": {
      "text/plain": [
       "array([ 0.00000000e+00,  4.20614663e+10,  2.00245710e+10, -5.11450182e+10,\n",
       "       -1.78713027e+11, -1.47215702e+11, -3.63612354e+10,  1.47294524e+10,\n",
       "        3.14084546e+10,  2.42540381e-05])"
      ]
     },
     "execution_count": 24,
     "metadata": {},
     "output_type": "execute_result"
    }
   ],
   "source": [
    "x"
   ]
  },
  {
   "cell_type": "code",
   "execution_count": 25,
   "id": "d063070a-76a7-4c95-bbf8-eb7136ea264a",
   "metadata": {},
   "outputs": [
    {
     "data": {
      "text/plain": [
       "array([1.31647146e+11, 1.60538336e+11, 1.79401262e+11, 1.18114360e+11,\n",
       "       1.93116301e+11, 1.59080467e+11, 8.39726761e+10, 1.31961995e+11,\n",
       "       1.19878394e+11, 1.98049251e+11])"
      ]
     },
     "execution_count": 25,
     "metadata": {},
     "output_type": "execute_result"
    }
   ],
   "source": [
    "r"
   ]
  },
  {
   "cell_type": "code",
   "execution_count": 26,
   "id": "3441cdeb-4339-4a13-9f3a-efb072b5ee9e",
   "metadata": {},
   "outputs": [
    {
     "data": {
      "text/plain": [
       "array([0.25026871, 0.45384596, 0.63335716, 0.18075083, 0.79000349,\n",
       "       0.44159361, 0.06495105, 0.25206865, 0.18897091, 0.85210246])"
      ]
     },
     "execution_count": 26,
     "metadata": {},
     "output_type": "execute_result"
    }
   ],
   "source": [
    "u"
   ]
  },
  {
   "cell_type": "code",
   "execution_count": null,
   "id": "f6259765-d2a7-41db-9319-bf816727f1e7",
   "metadata": {},
   "outputs": [],
   "source": []
  }
 ],
 "metadata": {
  "kernelspec": {
   "display_name": "Python 3 (ipykernel)",
   "language": "python",
   "name": "python3"
  },
  "language_info": {
   "codemirror_mode": {
    "name": "ipython",
    "version": 3
   },
   "file_extension": ".py",
   "mimetype": "text/x-python",
   "name": "python",
   "nbconvert_exporter": "python",
   "pygments_lexer": "ipython3",
   "version": "3.10.6"
  }
 },
 "nbformat": 4,
 "nbformat_minor": 5
}
